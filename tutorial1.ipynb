{
  "nbformat": 4,
  "nbformat_minor": 0,
  "metadata": {
    "colab": {
      "provenance": [],
      "authorship_tag": "ABX9TyNhz/hcIKyK+q3caPHtAX80",
      "include_colab_link": true
    },
    "kernelspec": {
      "name": "python3",
      "display_name": "Python 3"
    },
    "language_info": {
      "name": "python"
    }
  },
  "cells": [
    {
      "cell_type": "markdown",
      "metadata": {
        "id": "view-in-github",
        "colab_type": "text"
      },
      "source": [
        "<a href=\"https://colab.research.google.com/github/yotam-biu/tutorial1/blob/main/tutorial1.ipynb\" target=\"_parent\"><img src=\"https://colab.research.google.com/assets/colab-badge.svg\" alt=\"Open In Colab\"/></a>"
      ]
    },
    {
      "cell_type": "markdown",
      "source": [
        "# Print"
      ],
      "metadata": {
        "id": "detndnCHysy7"
      }
    },
    {
      "cell_type": "code",
      "source": [
        "a = 5\n",
        "b = 2\n",
        "print(a)\n",
        "print(\"a:\", a)\n",
        "c = a + b\n",
        "c"
      ],
      "metadata": {
        "id": "e6nwrui9ywl9"
      },
      "execution_count": null,
      "outputs": []
    },
    {
      "cell_type": "markdown",
      "source": [
        "# Variables and Operators"
      ],
      "metadata": {
        "id": "zv4uFArQfHwC"
      }
    },
    {
      "cell_type": "code",
      "source": [
        "a = 5\n",
        "b = \"a\"\n",
        "c = a * b\n",
        "c"
      ],
      "metadata": {
        "id": "PAl2nHl8euT4"
      },
      "execution_count": null,
      "outputs": []
    },
    {
      "cell_type": "markdown",
      "source": [
        "# Errors"
      ],
      "metadata": {
        "id": "tv-tJNf_fUO2"
      }
    },
    {
      "cell_type": "code",
      "source": [
        "a = 5\n",
        "b = \"a\"\n",
        "c = a b"
      ],
      "metadata": {
        "id": "-BI3Sj_He3FR"
      },
      "execution_count": null,
      "outputs": []
    },
    {
      "cell_type": "code",
      "source": [
        "a = 5\n",
        "b = \"a\"\n",
        "c = a + b"
      ],
      "metadata": {
        "id": "6rOMZaJje5lj"
      },
      "execution_count": null,
      "outputs": []
    },
    {
      "cell_type": "markdown",
      "source": [
        "calculate $5^2=25$"
      ],
      "metadata": {
        "id": "KlxTekiwfh8D"
      }
    },
    {
      "cell_type": "code",
      "source": [
        "# incorrect\n",
        "a = 5\n",
        "b = 2\n",
        "c = a ^ b\n",
        "c"
      ],
      "metadata": {
        "id": "0_qLGgnofa0D"
      },
      "execution_count": null,
      "outputs": []
    },
    {
      "cell_type": "markdown",
      "source": [],
      "metadata": {
        "id": "qMFDnU46faZs"
      }
    },
    {
      "cell_type": "code",
      "source": [
        "# correct\n",
        "a = 5\n",
        "b = 2\n",
        "c = a ** b\n",
        "c"
      ],
      "metadata": {
        "id": "g6kW-hJRe8MQ"
      },
      "execution_count": null,
      "outputs": []
    },
    {
      "cell_type": "markdown",
      "source": [
        "# Floating point error"
      ],
      "metadata": {
        "id": "BUglcvcEgDD2"
      }
    },
    {
      "cell_type": "code",
      "source": [
        "result = 0.1 + 0.1 + 0.1 - 0.3\n",
        "print(f\"Result: {result:.20f}\")\n",
        "result == 0.0"
      ],
      "metadata": {
        "id": "t2opHIXqf9cZ"
      },
      "execution_count": null,
      "outputs": []
    },
    {
      "cell_type": "code",
      "source": [
        "result = (1/3) * 3\n",
        "result == 1"
      ],
      "metadata": {
        "id": "H8jBtuM-gHPh"
      },
      "execution_count": null,
      "outputs": []
    }
  ]
}